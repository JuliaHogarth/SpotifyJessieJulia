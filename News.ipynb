{
 "cells": [
  {
   "cell_type": "code",
   "execution_count": 4,
   "id": "a4b873fd-d4e2-4ed3-9d9c-9fca99cc1305",
   "metadata": {},
   "outputs": [],
   "source": [
    "from newsapi import NewsApiClient\n",
    "import urllib.request\n",
    "import openai"
   ]
  },
  {
   "cell_type": "code",
   "execution_count": 5,
   "id": "92840769-cb71-4c99-af7a-a102c55dd1da",
   "metadata": {},
   "outputs": [],
   "source": [
    "with open(\"news.txt\", \"r\") as file:\n",
    "    key = file.read()\n",
    "\n",
    "api = NewsApiClient(api_key= key)\n",
    "\n",
    "with open(\"openai.txt\", \"r\") as file:\n",
    "    keyai = file.read()\n",
    "    \n",
    "openai.api_key = keyai"
   ]
  },
  {
   "cell_type": "code",
   "execution_count": 6,
   "id": "ed787479-b272-4cbb-b9a9-3331e7e24b0c",
   "metadata": {},
   "outputs": [],
   "source": [
    "def get_completion(prompt, model=\"gpt-3.5-turbo\"):\n",
    "    messages = [{\"role\": \"user\", \"content\": prompt}]\n",
    "    response = openai.ChatCompletion.create(\n",
    "    model=model,\n",
    "    messages=messages,\n",
    "    temperature=1,)\n",
    "\n",
    "    return response.choices[0].message[\"content\"]"
   ]
  },
  {
   "cell_type": "code",
   "execution_count": 7,
   "id": "d0576144-0daa-47ee-880a-84cfe994dc78",
   "metadata": {},
   "outputs": [],
   "source": [
    "articles = api.get_top_headlines(sources='bbc-news')\n",
    "titles = articles['articles'][0:3]\n",
    "\n",
    "news_titles = []\n",
    "for x in titles:\n",
    "    news_titles.append(x['title'])"
   ]
  },
  {
   "cell_type": "code",
   "execution_count": 8,
   "id": "40c7cdea-a305-4ce2-905e-5533167aebf0",
   "metadata": {},
   "outputs": [],
   "source": [
    "news_scores = []\n",
    "\n",
    "for a in news_titles:\n",
    "    prompt = (f\"Please assign the article a numerical value, with negative equalling 0, neutral = 0.5 and positive = 1: {a} Only give me a numerical value.\")\n",
    "    response = get_completion(prompt)\n",
    "    news_scores.append(response)"
   ]
  },
  {
   "cell_type": "code",
   "execution_count": 9,
   "id": "f11a032d-b1d3-4187-b30d-6d30c2a0164e",
   "metadata": {},
   "outputs": [],
   "source": [
    "int_list = [eval(i) for i in news_scores]\n",
    "\n",
    "fnews_score = sum(int_list) / len(int_list)"
   ]
  },
  {
   "cell_type": "code",
   "execution_count": null,
   "id": "d63d1fac-2918-4db9-ac62-c974ca5d5411",
   "metadata": {},
   "outputs": [],
   "source": []
  }
 ],
 "metadata": {
  "kernelspec": {
   "display_name": "Python 3 (ipykernel)",
   "language": "python",
   "name": "python3"
  },
  "language_info": {
   "codemirror_mode": {
    "name": "ipython",
    "version": 3
   },
   "file_extension": ".py",
   "mimetype": "text/x-python",
   "name": "python",
   "nbconvert_exporter": "python",
   "pygments_lexer": "ipython3",
   "version": "3.12.0"
  }
 },
 "nbformat": 4,
 "nbformat_minor": 5
}
