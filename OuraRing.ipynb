{
 "cells": [
  {
   "cell_type": "code",
   "execution_count": 10,
   "id": "a4b873fd-d4e2-4ed3-9d9c-9fca99cc1305",
   "metadata": {},
   "outputs": [],
   "source": [
    "import requests \n",
    "from datetime import date\n",
    "from datetime import timedelta"
   ]
  },
  {
   "cell_type": "code",
   "execution_count": 11,
   "id": "28406a4b-989b-415e-9751-3d677be3c214",
   "metadata": {},
   "outputs": [],
   "source": [
    "url = 'https://api.ouraring.com/v2/usercollection/daily_readiness' \n",
    "\n",
    "params={ \n",
    "    'start_date': date.today(), \n",
    "    'end_date': date.today(), \n",
    "}\n",
    "\n",
    "with open(\"Ouraheaders.txt\", \"r\") as file:\n",
    "    key = file.read()\n",
    "\n",
    "headers = { \n",
    "  'Authorization': key \n",
    "}"
   ]
  },
  {
   "cell_type": "code",
   "execution_count": 12,
   "id": "9af43fa7-3b4a-4688-8de2-88daba9e2f56",
   "metadata": {},
   "outputs": [],
   "source": [
    "response = requests.request('GET', url, headers=headers, params=params) \n",
    "json_response = response.json()\n",
    "test = json_response['data']"
   ]
  },
  {
   "cell_type": "code",
   "execution_count": 13,
   "id": "1e434387-54b1-464f-bb5a-1a67d327290a",
   "metadata": {},
   "outputs": [],
   "source": [
    "# retrieve Oura ring's readiness score which takes into consideration the user's sleep, activity, heartrate, and stress history.\n",
    "# convert readiness score to float between 0-1 and use it in spotify to get songs of relevant energy\n",
    "# note: each oura ring user has an api token. to test code without one, enter a float between 0-1 for oura variable\n",
    "\n",
    "score = json_response['data'][0]['score']\n",
    "oura = score * .01"
   ]
  },
  {
   "cell_type": "code",
   "execution_count": null,
   "id": "361c9954-87fb-4a8e-92e1-eaec117b51bf",
   "metadata": {},
   "outputs": [],
   "source": []
  }
 ],
 "metadata": {
  "kernelspec": {
   "display_name": "Python 3 (ipykernel)",
   "language": "python",
   "name": "python3"
  },
  "language_info": {
   "codemirror_mode": {
    "name": "ipython",
    "version": 3
   },
   "file_extension": ".py",
   "mimetype": "text/x-python",
   "name": "python",
   "nbconvert_exporter": "python",
   "pygments_lexer": "ipython3",
   "version": "3.12.0"
  }
 },
 "nbformat": 4,
 "nbformat_minor": 5
}
