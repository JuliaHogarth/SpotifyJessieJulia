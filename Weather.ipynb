{
 "cells": [
  {
   "cell_type": "code",
   "execution_count": 2,
   "id": "2b95ac7f-00f2-47f1-81f9-e5bfe69f8fb7",
   "metadata": {},
   "outputs": [],
   "source": [
    "import json\n",
    "import urllib.request"
   ]
  },
  {
   "cell_type": "code",
   "execution_count": 3,
   "id": "0a648787-eed1-40c7-9342-1efd1665f0e0",
   "metadata": {},
   "outputs": [],
   "source": [
    "request = urllib.request.Request(\"https://api.open-meteo.com/v1/forecast?latitude=51.5085&longitude=-0.1257&current=weather_code&timezone=Europe%2FLondon\")\n",
    "response = urllib.request.urlopen(request)\n",
    "weather = json.loads(response.read())"
   ]
  },
  {
   "cell_type": "code",
   "execution_count": 4,
   "id": "ff59e8bd-6470-4797-8c23-7e3f300874fa",
   "metadata": {},
   "outputs": [],
   "source": [
    "wc = weather['current']['weather_code']\n",
    "\n",
    "# use weather codes to determine mood which is inputed into spotify to get songs of relevant valence (positive/negative)\n",
    "\n",
    "weather_mood = 0\n",
    "if wc < 3:\n",
    "    weather_mood = 1\n",
    "elif wc > 2 and wc < 65:\n",
    "    weather_mood = .60\n",
    "elif wc > 65 and wc < 82:\n",
    "    weather_mood = .30\n",
    "elif wc < 82:\n",
    "    weather_mood = .10"
   ]
  },
  {
   "cell_type": "code",
   "execution_count": null,
   "id": "c93d23c5-1e7e-430c-9cda-053cddfb32ed",
   "metadata": {},
   "outputs": [],
   "source": []
  }
 ],
 "metadata": {
  "kernelspec": {
   "display_name": "Python 3 (ipykernel)",
   "language": "python",
   "name": "python3"
  },
  "language_info": {
   "codemirror_mode": {
    "name": "ipython",
    "version": 3
   },
   "file_extension": ".py",
   "mimetype": "text/x-python",
   "name": "python",
   "nbconvert_exporter": "python",
   "pygments_lexer": "ipython3",
   "version": "3.12.0"
  }
 },
 "nbformat": 4,
 "nbformat_minor": 5
}
